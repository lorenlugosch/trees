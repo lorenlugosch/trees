{
 "cells": [
  {
   "cell_type": "markdown",
   "metadata": {
    "colab_type": "text",
    "id": "KM9XVDmL2SoT"
   },
   "source": [
    "# Demo 10 : Decision 🌳s \n",
    "\n",
    "This demo borrows from https://github.com/fastai/fastai/blob/master/courses/ml1/lesson3-rf_foundations.ipynb\n",
    "\n",
    "You will implement:\n",
    "- training a decision tree\n",
    "- training a random forest\n"
   ]
  },
  {
   "cell_type": "code",
   "execution_count": 4,
   "metadata": {
    "colab": {},
    "colab_type": "code",
    "id": "3dXscpTD2SoX"
   },
   "outputs": [],
   "source": [
    "# Verify that sklearn is properly installed by running this cell\n",
    "import sklearn"
   ]
  },
  {
   "cell_type": "code",
   "execution_count": 17,
   "metadata": {
    "colab": {},
    "colab_type": "code",
    "id": "JeWnS1mc2Sob"
   },
   "outputs": [],
   "source": [
    "import numpy as np\n",
    "import matplotlib.pyplot as plt\n",
    "%matplotlib inline"
   ]
  },
  {
   "cell_type": "markdown",
   "metadata": {
    "colab_type": "text",
    "id": "xwafc_T22Soe"
   },
   "source": [
    "# Prepare the data\n",
    "\n",
    "We will use the Iris dataset again. Start by loading the data and splitting it into train/test sets."
   ]
  },
  {
   "cell_type": "code",
   "execution_count": 1,
   "metadata": {
    "colab": {},
    "colab_type": "code",
    "id": "XwJ8elHg2Sof"
   },
   "outputs": [],
   "source": [
    "from sklearn import datasets\n",
    "\n",
    "iris = datasets.load_iris()\n",
    "digits = datasets.load_digits()"
   ]
  },
  {
   "cell_type": "code",
   "execution_count": 10,
   "metadata": {
    "colab": {
     "base_uri": "https://localhost:8080/",
     "height": 237
    },
    "colab_type": "code",
    "executionInfo": {
     "elapsed": 605,
     "status": "error",
     "timestamp": 1571855582193,
     "user": {
      "displayName": "Michael Noukhovitch",
      "photoUrl": "https://lh3.googleusercontent.com/a-/AAuE7mDT3ZsnwHrjcW7fdUa-Mb1TerjtXToPJnrLKo2j=s64",
      "userId": "07518432243701106484"
     },
     "user_tz": 240
    },
    "id": "WlNPne7V2So6",
    "outputId": "41d58b8c-2543-4e6e-a012-163a06bf10ec"
   },
   "outputs": [
    {
     "name": "stdout",
     "output_type": "stream",
     "text": [
      "(50, 4) (50,)\n",
      "(100, 4) (100,)\n"
     ]
    }
   ],
   "source": [
    "# Split into train/test\n",
    "from sklearn.model_selection import train_test_split\n",
    "\n",
    "(iris_train_x, iris_test_x, \n",
    " iris_train_y, iris_test_y) = train_test_split(iris.data, iris.target, test_size=100)\n",
    "\n",
    "print(iris_train_x.shape, iris_train_y.shape)\n",
    "print(iris_test_x.shape, iris_test_y.shape)"
   ]
  },
  {
   "cell_type": "markdown",
   "metadata": {
    "colab_type": "text",
    "id": "g2xbeZdm2So5"
   },
   "source": [
    "# Models\n",
    "\n",
    "## Decision tree\n",
    "\n",
    "First, we will implement the basic decision tree."
   ]
  },
  {
   "cell_type": "markdown",
   "metadata": {
    "colab_type": "text",
    "id": "XoqPgAM72So_"
   },
   "source": [
    "We can now use the sklearn functions to implement a nearest neighbor classifier."
   ]
  },
  {
   "cell_type": "markdown",
   "metadata": {
    "colab_type": "text",
    "id": "g2xbeZdm2So5"
   },
   "source": [
    "## Random forest\n",
    "\n",
    "Next, we will implement the random forest model using our decision tree. \n",
    "\n",
    "A random forest is an ensemble of decision trees, where each tree is trained by randomizing the dataset set in some way.\n",
    "\n",
    "We will explore two methods for randomizing the dataset: picking a random subset of rows (bagging), and picking a random subset of features."
   ]
  },
  {
   "cell_type": "code",
   "execution_count": 15,
   "metadata": {
    "colab": {
     "base_uri": "https://localhost:8080/",
     "height": 104
    },
    "colab_type": "code",
    "executionInfo": {
     "elapsed": 791,
     "status": "ok",
     "timestamp": 1571854847206,
     "user": {
      "displayName": "Rémi LP",
      "photoUrl": "https://lh3.googleusercontent.com/a-/AAuE7mDCHZM0ovaKL5mFEhgC-br1CQgfekn1p9JsJsr2NA=s64",
      "userId": "02691211833008544468"
     },
     "user_tz": 240
    },
    "id": "My2jcUPk2SpA",
    "outputId": "c3332b13-4b6b-40e1-9260-02160b87a530"
   },
   "outputs": [
    {
     "name": "stdout",
     "output_type": "stream",
     "text": [
      "[0 0 1 0 1 0 2 0 0 1 2 0 0 1 2 0 1 0 0 0 0 0 0 0 2 2 0 1 1 1 1 0 1 2 1 1 2\n",
      " 2 0 1 0 2 2 2 1 2 1 2 0 2 1 0 2 1 0 2 0 1 2 1 1 0 1 2 1 1 0 2 1 2 0 0 1 0\n",
      " 0 2 1 2 0 1 1 1 2 2 0 2 2 2 2 2 1 0 2 0 2 0 2 2 2 1]\n",
      "[0 0 1 0 1 0 2 0 0 1 2 0 0 1 2 0 1 0 0 0 0 0 0 0 2 1 0 1 1 1 1 0 1 2 1 1 2\n",
      " 2 0 1 0 2 2 2 1 2 1 2 0 2 1 0 2 1 0 2 0 1 2 1 1 0 1 2 1 1 0 2 1 2 0 0 1 0\n",
      " 0 2 1 2 0 2 1 1 2 2 0 2 2 2 2 2 1 0 2 0 1 0 2 2 2 1]\n",
      "[False False False False False False False False False False False False\n",
      " False False False False False False False False False False False False\n",
      " False  True False False False False False False False False False False\n",
      " False False False False False False False False False False False False\n",
      " False False False False False False False False False False False False\n",
      " False False False False False False False False False False False False\n",
      " False False False False False False False  True False False False False\n",
      " False False False False False False False False False False  True False\n",
      " False False False False]\n"
     ]
    }
   ],
   "source": [
    "from sklearn.neighbors import KNeighborsClassifier\n",
    "\n",
    "knn = KNeighborsClassifier()\n",
    "knn.fit(iris_train_x, iris_train_y)\n",
    "print(knn.predict(iris_test_x))\n",
    "print(iris_test_y)\n",
    "print(iris_test_y != knn.predict(iris_test_x))"
   ]
  },
  {
   "cell_type": "markdown",
   "metadata": {
    "colab_type": "text",
    "id": "-FdVoYbI2SpP"
   },
   "source": [
    "Maintenant, faire varier le k des k-plus proches voisins, puis afficher la performance en fonction de k"
   ]
  },
  {
   "cell_type": "code",
   "execution_count": 19,
   "metadata": {
    "colab": {},
    "colab_type": "code",
    "id": "0nPtGKtd2SpQ",
    "outputId": "cf0ec137-8001-4166-b1e0-7bc56c1dfc26"
   },
   "outputs": [
    {
     "data": {
      "text/plain": [
       "[<matplotlib.lines.Line2D at 0x7f3445af8c88>]"
      ]
     },
     "execution_count": 19,
     "metadata": {},
     "output_type": "execute_result"
    },
    {
     "data": {
      "image/png": "[encoded data removed]",
      "text/plain": [
       "<Figure size 432x288 with 1 Axes>"
      ]
     },
     "metadata": {
      "needs_background": "light"
     },
     "output_type": "display_data"
    }
   ],
   "source": [
    "k_values = np.arange(1, 51)\n",
    "k_perf = []\n",
    "\n",
    "#TODO plot the validation curve for different k\n",
    "for k in k_values:  # question\n",
    "    knn = KNeighborsClassifier(n_neighbors=k)\n",
    "    knn.fit(iris_train_x, iris_train_y)\n",
    "    test_pred = knn.predict(iris_test_x)\n",
    "    k_perf.append((test_pred == iris_test_y).mean())\n",
    "\n",
    "plt.xlabel('k\\'s value')\n",
    "plt.ylabel('Performance on test set')\n",
    "plt.plot(k_values, k_perf)"
   ]
  },
  {
   "cell_type": "markdown",
   "metadata": {
    "colab_type": "text",
    "id": "jCEQDVo_2SpU"
   },
   "source": [
    "## Digits Dataset"
   ]
  },
  {
   "cell_type": "markdown",
   "metadata": {
    "colab_type": "text",
    "id": "w7sa2MAk2SpV"
   },
   "source": [
    "We can now use the same classifier for another dataset: digits images."
   ]
  },
  {
   "cell_type": "code",
   "execution_count": 0,
   "metadata": {
    "colab": {},
    "colab_type": "code",
    "id": "j9qosbk02SpW",
    "outputId": "2d700eb9-75c3-446d-c794-a34cc8302d14"
   },
   "outputs": [
    {
     "name": "stdout",
     "output_type": "stream",
     "text": [
      "(1500, 64) (1500,)\n"
     ]
    }
   ],
   "source": [
    "np.random.seed(0)\n",
    "indices = np.random.permutation(len(digits.target))\n",
    "\n",
    "# Separate into train/test as usual\n",
    "digits_train_x = digits.data[indices[:1500]]\n",
    "digits_test_x = digits.data[indices[1500:]]\n",
    "digits_train_y = digits.target[indices[:1500]]\n",
    "digits_test_y = digits.target[indices[1500:]]\n",
    "\n",
    "print(digits_train_x.shape, digits_train_y.shape)"
   ]
  },
  {
   "cell_type": "code",
   "execution_count": 0,
   "metadata": {
    "colab": {},
    "colab_type": "code",
    "id": "jY1zV2y72Spb",
    "outputId": "60c8f46e-7386-44d2-a0a3-ae0262ffbf08"
   },
   "outputs": [
    {
     "data": {
      "text/plain": [
       "[<matplotlib.lines.Line2D at 0x10e18dd30>]"
      ]
     },
     "execution_count": 9,
     "metadata": {
      "tags": []
     },
     "output_type": "execute_result"
    },
    {
     "data": {
      "image/png": "[encoded data removed]",
      "text/plain": [
       "<Figure size 432x288 with 1 Axes>"
      ]
     },
     "metadata": {
      "tags": []
     },
     "output_type": "display_data"
    }
   ],
   "source": [
    "#TODO another validation curve\n",
    "\n",
    "# We will vary k using jumps of 15\n",
    "k_values = np.arange(1, 1500, 15)\n",
    "k_perf = []\n",
    "for k in k_values:\n",
    "    knn = KNeighborsClassifier(n_neighbors=k)\n",
    "    knn.fit(digits_train_x, digits_train_y)\n",
    "    test_pred = knn.predict(digits_test_x)\n",
    "    k_perf.append((test_pred == digits_test_y).mean())\n",
    "\n",
    "plt.xlabel('k\\'s value')\n",
    "plt.ylabel('Performance on test set')\n",
    "plt.plot(k_values, k_perf)"
   ]
  }
 ],
 "metadata": {
  "anaconda-cloud": {},
  "colab": {
   "collapsed_sections": [],
   "name": "9 - (Completed) sklearn-library.ipynb",
   "provenance": []
  },
  "kernelspec": {
   "display_name": "Python 3",
   "language": "python",
   "name": "python3"
  },
  "language_info": {
   "codemirror_mode": {
    "name": "ipython",
    "version": 3
   },
   "file_extension": ".py",
   "mimetype": "text/x-python",
   "name": "python",
   "nbconvert_exporter": "python",
   "pygments_lexer": "ipython3",
   "version": "3.7.3"
  },
  "nav_menu": {},
  "toc": {
   "navigate_menu": true,
   "number_sections": true,
   "sideBar": true,
   "threshold": 6,
   "toc_cell": false,
   "toc_section_display": "block",
   "toc_window_display": false
  }
 },
 "nbformat": 4,
 "nbformat_minor": 1
}
